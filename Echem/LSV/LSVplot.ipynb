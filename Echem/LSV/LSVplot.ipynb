{
 "cells": [
  {
   "cell_type": "code",
   "execution_count": 63,
   "id": "pending-flooring",
   "metadata": {},
   "outputs": [],
   "source": [
    "import numpy as np\n",
    "import matplotlib as plt\n",
    "import csv\n",
    "import os\n",
    "import re\n",
    "import pandas as pd\n"
   ]
  },
  {
   "cell_type": "code",
   "execution_count": 74,
   "id": "varied-father",
   "metadata": {},
   "outputs": [],
   "source": [
    "#A function to get file name and out put file names and legend labels\n",
    "def getfilename():\n",
    "    path = os.getcwd()    \n",
    "    filewithext = []\n",
    "    filename = []\n",
    "    for file in [doc for doc in os.listdir(path) if doc.endswith('.DTA')]:  \n",
    "        filewithext.append(file)\n",
    "        filename.append(file.replace(\".DTA\",\"\"))\n",
    "    return(filewithext, filename)\n",
    "#A function converts scientific notationed numbers to floats\n",
    "def convert_to_float(s):\n",
    "    try:\n",
    "        s[x_tag] = float(s[x_tag])\n",
    "        s[y_tag] = float(s[y_tag])\n",
    "        return s\n",
    "    except:\n",
    "        return s\n",
    "\n",
    "#A function return a columns of the result of a truth table\n",
    "#which x_rag and y_tag column should both be numerical values\n",
    "def is_numerical(s):\n",
    "    try:\n",
    "        result = isinstance(s[x_tag], float) and isinstance(s[y_tag], float)\n",
    "        return result\n",
    "    except:\n",
    "        return False\n",
    "\n",
    "def add_lsv_plot(lsv):\n",
    "    lsv.plot(ax=ax, \n",
    "          x='ref',\n",
    "          y='Im')"
   ]
  },
  {
   "cell_type": "code",
   "execution_count": 81,
   "id": "vital-holder",
   "metadata": {},
   "outputs": [],
   "source": [
    "filenameext, filename = getfilename()"
   ]
  },
  {
   "cell_type": "code",
   "execution_count": 76,
   "id": "middle-hindu",
   "metadata": {},
   "outputs": [],
   "source": [
    "def clean_lsv_data(f_name):\n",
    "    df = pd.read_csv(f_name)\n",
    "    df = df['EXPLAIN'].str.split(r\"\\t\", expand=True)\n",
    "    header_pos = df[df[1]=='Pt'].index.values\n",
    "    df.rename(columns=df.iloc[header_pos[0]], inplace = True)\n",
    "    header_ls = list(df.iloc[header_pos[0]])\n",
    "    unit_ls = list(df.iloc[header_pos[0]+1])\n",
    "    raw = df.iloc[header_pos[0]+2:]\n",
    "    raw = raw[['Vf','Im']]\n",
    "    x_tag = 'Vf'\n",
    "    y_tag = 'Im'\n",
    "\n",
    "    raw[[x_tag, y_tag]] = raw[[x_tag, y_tag]].apply(convert_to_float, axis= 1)\n",
    "    refshift= 0\n",
    "    area = 0.196\n",
    "    raw['Im'] = raw['Im']*1000\n",
    "    raw['ref']=raw[x_tag]+refshift\n",
    "    lsv = raw\n",
    "    return lsv"
   ]
  },
  {
   "cell_type": "code",
   "execution_count": 77,
   "id": "living-browse",
   "metadata": {},
   "outputs": [],
   "source": [
    "lsv1 = clean_data(filenameext[0])\n",
    "lsv2 = clean_data(filenameext[1])\n",
    "lsv3 = clean_data(filenameext[2])\n",
    "lsv4 = clean_data(filenameext[3])"
   ]
  },
  {
   "cell_type": "code",
   "execution_count": 78,
   "id": "received-juice",
   "metadata": {},
   "outputs": [],
   "source": [
    "#If the data is copied in txt or a more organized file\n",
    "\n",
    "# lsv1 = df.iloc[1:,0:2]\n",
    "# lsv1.rename(columns = {0:'x',1:'y'}, inplace = True)\n",
    "# lsv1[[x_tag, y_tag]] = lsv1[[x_tag, y_tag]].apply(convert_to_float, axis= 1)\n",
    "# lsv1.replace(\"\", np.nan, inplace=True)\n",
    "# lsv1 = lsv1.dropna()\n",
    "\n",
    "# lsv2 = df.iloc[1:,2:4]\n",
    "# lsv2.rename(columns = {2:'x',3:'y'}, inplace = True)\n",
    "# lsv2[[x_tag, y_tag]] = lsv2[[x_tag, y_tag]].apply(convert_to_float, axis= 1)\n",
    "# lsv2.replace(\"\", np.nan, inplace=True)\n",
    "# lsv2 = lsv2.dropna()\n",
    "\n",
    "\n",
    "# lsv3 = df.iloc[1:,4:6]\n",
    "# lsv3.rename(columns = {4:'x',5:'y'}, inplace = True)\n",
    "# lsv3[[x_tag, y_tag]] = lsv3[[x_tag, y_tag]].apply(convert_to_float, axis= 1)\n",
    "# lsv3.replace(\"\", np.nan, inplace=True)\n",
    "# lsv3 = lsv3.dropna()\n",
    "\n",
    "# lsv1['ref']=lsv1['x']+refshift\n",
    "# lsv2['ref']=lsv2['x']+refshift\n",
    "# lsv3['ref']=lsv3['x']+refshift\n",
    "# lsv1['normA']=lsv1['y']*1000/area\n",
    "# lsv2['normA']=lsv2['y']*1000/area\n",
    "# lsv3['normA']=lsv3['y']*1000/area\n",
    "\n",
    "\n"
   ]
  },
  {
   "cell_type": "code",
   "execution_count": 80,
   "id": "crude-renewal",
   "metadata": {},
   "outputs": [
    {
     "data": {
      "image/png": "[encoded data removed]",
      "text/plain": [
       "<Figure size 432x288 with 1 Axes>"
      ]
     },
     "metadata": {
      "needs_background": "light"
     },
     "output_type": "display_data"
    }
   ],
   "source": [
    "ax = lsv1.plot(x='ref',\n",
    "          y='Im',\n",
    "          title  = 'LSV',\n",
    "          xlim = (-0.3,0.6),\n",
    "          ylim = (-0.1, 0)\n",
    "         )\n",
    "add_lsv_plot(lsv2)\n",
    "add_lsv_plot(lsv3)\n",
    "add_lsv_plot(lsv4)\n",
    "ax.set(xlabel='Voltage (V vs. Ag/AgCl)', ylabel='Current (mA/cm$\\mathregular{^{2}}$)')\n",
    "ax.legend([filename[0],filename[1],filename[2],filename[3]],frameon=False)\n",
    "ax.figure.savefig(filename[0] + 'LSV.png')"
   ]
  },
  {
   "cell_type": "code",
   "execution_count": 211,
   "id": "facial-ethnic",
   "metadata": {},
   "outputs": [],
   "source": [
    "# ax = lsv2.plot(x='ref',\n",
    "#           y='normA',\n",
    "#           title  = 'LSV',\n",
    "#           xlim = (-1,0),\n",
    "#           ylim = (-10, 0)\n",
    "#          )\n",
    "# ax.set(xlabel='Voltage (V vs. RHE)', ylabel='Current (mA/cm$\\mathregular{^{2}}$)')\n",
    "# ax.legend([sample])\n",
    "# # current_handles, current_labels = plt.gca().get_legend_handles_labels()\n",
    "# # reversed_handles = list(reversed(current_handles))\n",
    "# # reversed_labels = list(reversed(current_labels))\n",
    "# #plt.legend(legend_ls, frameon=False, handlelength=0)\n",
    "# # plt.xlim(1,20)\n",
    "# # plt.xticks(np.arange(1, 20, 2.0))\n",
    "# #plt.yticks([])\n",
    "# # plt.xlabel('Voltage (V vs. RHE)')\n",
    "# # plt.ylabel('Current (A/cm$\\mathregular{^{2}}$)')\n",
    "# # plt.title('CV')\n",
    "# # plt.savefig(sample + 'CV.png')\n",
    "# # plt.show()"
   ]
  },
  {
   "cell_type": "code",
   "execution_count": null,
   "id": "determined-going",
   "metadata": {},
   "outputs": [],
   "source": []
  }
 ],
 "metadata": {
  "kernelspec": {
   "display_name": "Python 3",
   "language": "python",
   "name": "python3"
  },
  "language_info": {
   "codemirror_mode": {
    "name": "ipython",
    "version": 3
   },
   "file_extension": ".py",
   "mimetype": "text/x-python",
   "name": "python",
   "nbconvert_exporter": "python",
   "pygments_lexer": "ipython3",
   "version": "3.8.5"
  }
 },
 "nbformat": 4,
 "nbformat_minor": 5
}
