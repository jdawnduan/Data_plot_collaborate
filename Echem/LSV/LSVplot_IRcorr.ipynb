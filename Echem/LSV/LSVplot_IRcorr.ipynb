{
 "cells": [
  {
   "cell_type": "code",
   "execution_count": 3,
   "id": "foster-captain",
   "metadata": {},
   "outputs": [],
   "source": [
    "import numpy as np\n",
    "import matplotlib as plt\n",
    "import csv\n",
    "import os\n",
    "import re\n",
    "import pandas as pd\n"
   ]
  },
  {
   "cell_type": "code",
   "execution_count": 51,
   "id": "floating-birmingham",
   "metadata": {},
   "outputs": [],
   "source": [
    "#A function to get file name and out put file names and legend labels\n",
    "def getfilename():\n",
    "    path = os.getcwd()    \n",
    "    filewithext = []\n",
    "    filename = []\n",
    "    for file in [doc for doc in os.listdir(path) if doc.endswith('.txt')]:  \n",
    "        filewithext.append(file)\n",
    "        filename.append(file.replace(\".txt\",\"\"))\n",
    "    return(filewithext, filename)\n",
    "#A function converts scientific notationed numbers to floats\n",
    "def convert_to_float(s):\n",
    "    try:\n",
    "        s[0] = float(s[0])\n",
    "        s[1] = float(s[1])\n",
    "        return s\n",
    "    except:\n",
    "        return s\n",
    "\n",
    "#A function return a columns of the result of a truth table\n",
    "#which x_rag and y_tag column should both be numerical values\n",
    "def is_numerical(s):\n",
    "    try:\n",
    "        result = isinstance(s[x_tag], float) and isinstance(s[y_tag], float)\n",
    "        return result\n",
    "    except:\n",
    "        return False\n",
    "\n",
    "def add_lsv_plot(lsv):\n",
    "    lsv.plot(ax=ax, \n",
    "          x='ref',\n",
    "          y=1)"
   ]
  },
  {
   "cell_type": "code",
   "execution_count": 52,
   "id": "outside-georgia",
   "metadata": {},
   "outputs": [
    {
     "data": {
      "text/plain": [
       "'PCN222.txt'"
      ]
     },
     "execution_count": 52,
     "metadata": {},
     "output_type": "execute_result"
    }
   ],
   "source": [
    "filenameext, filename = getfilename()\n",
    "filenameext[0]"
   ]
  },
  {
   "cell_type": "code",
   "execution_count": 53,
   "id": "legitimate-sauce",
   "metadata": {},
   "outputs": [],
   "source": [
    "\n",
    "df = pd.read_csv(filenameext[0])\n",
    "df = df['XY'].str.split(r\"\\t\", expand=True)\n",
    "raw = df.iloc[1:,:]\n",
    "sample_names = ['PCN222', 'PCN222andC70mixture', 'PCN222C70']"
   ]
  },
  {
   "cell_type": "code",
   "execution_count": 54,
   "id": "seventh-national",
   "metadata": {},
   "outputs": [],
   "source": [
    "lsv1 = raw.iloc[:,0:2].dropna()\n",
    "lsv2 = raw.iloc[:,2:4].dropna()\n",
    "lsv3 = raw.iloc[:,4:6].dropna()\n",
    "lsv2.rename(columns={2:0,3:1}, inplace = True)\n",
    "lsv3.rename(columns={4:0,5:1}, inplace = True)\n",
    "refshift= 0.989\n",
    "area = 0.196\n",
    "\n",
    "lsv1[[0, 1]] = lsv1[[0, 1]].apply(convert_to_float, axis= 1)\n",
    "lsv2[[0, 1]] = lsv2[[0, 1]].apply(convert_to_float, axis= 1)\n",
    "lsv3[[0, 1]] = lsv3[[0, 1]].apply(convert_to_float, axis= 1)\n",
    "\n",
    "lsv1[1]=lsv1[1]*1000/area\n",
    "lsv1['ref']=lsv1[0]+refshift\n",
    "\n",
    "lsv2[1]=lsv2[1]*1000/area\n",
    "lsv2['ref']=lsv2[0]+refshift\n",
    "\n",
    "lsv3[1]=lsv3[1]*1000/area\n",
    "lsv3['ref']=lsv3[0]+refshift"
   ]
  },
  {
   "cell_type": "code",
   "execution_count": 55,
   "id": "demanding-fantasy",
   "metadata": {},
   "outputs": [],
   "source": [
    "#If the data is copied in txt or a more organized file\n",
    "\n",
    "# lsv1 = df.iloc[1:,0:2]\n",
    "# lsv1.rename(columns = {0:'x',1:'y'}, inplace = True)\n",
    "# lsv1[[x_tag, y_tag]] = lsv1[[x_tag, y_tag]].apply(convert_to_float, axis= 1)\n",
    "# lsv1.replace(\"\", np.nan, inplace=True)\n",
    "# lsv1 = lsv1.dropna()\n",
    "\n",
    "# lsv2 = df.iloc[1:,2:4]\n",
    "# lsv2.rename(columns = {2:'x',3:'y'}, inplace = True)\n",
    "# lsv2[[x_tag, y_tag]] = lsv2[[x_tag, y_tag]].apply(convert_to_float, axis= 1)\n",
    "# lsv2.replace(\"\", np.nan, inplace=True)\n",
    "# lsv2 = lsv2.dropna()\n",
    "\n",
    "\n",
    "# lsv3 = df.iloc[1:,4:6]\n",
    "# lsv3.rename(columns = {4:'x',5:'y'}, inplace = True)\n",
    "# lsv3[[x_tag, y_tag]] = lsv3[[x_tag, y_tag]].apply(convert_to_float, axis= 1)\n",
    "# lsv3.replace(\"\", np.nan, inplace=True)\n",
    "# lsv3 = lsv3.dropna()\n",
    "\n",
    "# lsv1['ref']=lsv1['x']+refshift\n",
    "# lsv2['ref']=lsv2['x']+refshift\n",
    "# lsv3['ref']=lsv3['x']+refshift\n",
    "# lsv1['normA']=lsv1['y']*1000/area\n",
    "# lsv2['normA']=lsv2['y']*1000/area\n",
    "# lsv3['normA']=lsv3['y']*1000/area\n",
    "\n",
    "\n"
   ]
  },
  {
   "cell_type": "code",
   "execution_count": 57,
   "id": "instrumental-swedish",
   "metadata": {},
   "outputs": [
    {
     "data": {
      "image/png": "[encoded data removed]",
      "text/plain": [
       "<Figure size 432x288 with 1 Axes>"
      ]
     },
     "metadata": {
      "needs_background": "light"
     },
     "output_type": "display_data"
    }
   ],
   "source": [
    "ax = lsv1.plot(x='ref',\n",
    "          y=1,\n",
    "          title  = 'LSV',\n",
    "          #xlim = (-0.3,0.6),\n",
    "          #ylim = (-0.1, 0)\n",
    "         )\n",
    "add_lsv_plot(lsv2)\n",
    "add_lsv_plot(lsv3)\n",
    "#add_lsv_plot(lsv4)\n",
    "ax.set(xlabel='Voltage (V vs. RHE)', ylabel='Current (mA/cm$\\mathregular{^{2}}$)')\n",
    "ax.legend(sample_names,frameon=False)\n",
    "ax.figure.savefig(filename[0] + 'LSV.png')"
   ]
  },
  {
   "cell_type": "code",
   "execution_count": 211,
   "id": "arranged-store",
   "metadata": {},
   "outputs": [],
   "source": [
    "# ax = lsv2.plot(x='ref',\n",
    "#           y='normA',\n",
    "#           title  = 'LSV',\n",
    "#           xlim = (-1,0),\n",
    "#           ylim = (-10, 0)\n",
    "#          )\n",
    "# ax.set(xlabel='Voltage (V vs. RHE)', ylabel='Current (mA/cm$\\mathregular{^{2}}$)')\n",
    "# ax.legend([sample])\n",
    "# # current_handles, current_labels = plt.gca().get_legend_handles_labels()\n",
    "# # reversed_handles = list(reversed(current_handles))\n",
    "# # reversed_labels = list(reversed(current_labels))\n",
    "# #plt.legend(legend_ls, frameon=False, handlelength=0)\n",
    "# # plt.xlim(1,20)\n",
    "# # plt.xticks(np.arange(1, 20, 2.0))\n",
    "# #plt.yticks([])\n",
    "# # plt.xlabel('Voltage (V vs. RHE)')\n",
    "# # plt.ylabel('Current (A/cm$\\mathregular{^{2}}$)')\n",
    "# # plt.title('CV')\n",
    "# # plt.savefig(sample + 'CV.png')\n",
    "# # plt.show()"
   ]
  },
  {
   "cell_type": "code",
   "execution_count": null,
   "id": "informed-pittsburgh",
   "metadata": {},
   "outputs": [],
   "source": []
  }
 ],
 "metadata": {
  "kernelspec": {
   "display_name": "Python 3",
   "language": "python",
   "name": "python3"
  },
  "language_info": {
   "codemirror_mode": {
    "name": "ipython",
    "version": 3
   },
   "file_extension": ".py",
   "mimetype": "text/x-python",
   "name": "python",
   "nbconvert_exporter": "python",
   "pygments_lexer": "ipython3",
   "version": "3.8.5"
  }
 },
 "nbformat": 4,
 "nbformat_minor": 5
}
