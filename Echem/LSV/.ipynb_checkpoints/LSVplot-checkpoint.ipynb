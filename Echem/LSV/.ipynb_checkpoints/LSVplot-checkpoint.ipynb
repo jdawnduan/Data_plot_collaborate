{
 "cells": [
  {
   "cell_type": "code",
   "execution_count": 3,
   "id": "coastal-highway",
   "metadata": {},
   "outputs": [],
   "source": [
    "import numpy as np\n",
    "import matplotlib as plt\n",
    "import csv\n",
    "import os\n",
    "import re\n",
    "import pandas as pd\n"
   ]
  },
  {
   "cell_type": "code",
   "execution_count": 87,
   "id": "miniature-cherry",
   "metadata": {},
   "outputs": [],
   "source": [
    "#A function to get file name and out put file names and legend labels\n",
    "def getfilename():\n",
    "    path = os.getcwd()    \n",
    "    filewithext = []\n",
    "    filename = []\n",
    "    for file in [doc for doc in os.listdir(path) if doc.endswith('.DTA')]:  \n",
    "        filewithext.append(file)\n",
    "        filename.append(file.replace(\".DTA\",\"\"))\n",
    "    return(filewithext, filename)\n",
    "#A function converts scientific notationed numbers to floats\n",
    "def convert_to_float(s):\n",
    "    try:\n",
    "        s[x_tag] = float(s[x_tag])\n",
    "        s[y_tag] = float(s[y_tag])\n",
    "        return s\n",
    "    except:\n",
    "        return s\n",
    "\n",
    "#A function return a columns of the result of a truth table\n",
    "#which x_rag and y_tag column should both be numerical values\n",
    "def is_numerical(s):\n",
    "    try:\n",
    "        result = isinstance(s[x_tag], float) and isinstance(s[y_tag], float)\n",
    "        return result\n",
    "    except:\n",
    "        return False"
   ]
  },
  {
   "cell_type": "code",
   "execution_count": 88,
   "id": "recovered-korean",
   "metadata": {},
   "outputs": [],
   "source": [
    "df = pd.read_csv('lsv.txt')\n",
    "df = df['XY'].str.split(r\"\\t\", expand=True)"
   ]
  },
  {
   "cell_type": "code",
   "execution_count": 106,
   "id": "sufficient-updating",
   "metadata": {},
   "outputs": [
    {
     "ename": "AttributeError",
     "evalue": "'str' object has no attribute 'str'",
     "output_type": "error",
     "traceback": [
      "\u001b[1;31m---------------------------------------------------------------------------\u001b[0m",
      "\u001b[1;31mAttributeError\u001b[0m                            Traceback (most recent call last)",
      "\u001b[1;32m<ipython-input-106-5990b5a6662a>\u001b[0m in \u001b[0;36m<module>\u001b[1;34m\u001b[0m\n\u001b[0;32m      5\u001b[0m \u001b[1;31m# type(raw.iloc[1][2])\u001b[0m\u001b[1;33m\u001b[0m\u001b[1;33m\u001b[0m\u001b[1;33m\u001b[0m\u001b[0m\n\u001b[0;32m      6\u001b[0m \u001b[1;31m#a = format(raw.iloc[1][2],float)\u001b[0m\u001b[1;33m\u001b[0m\u001b[1;33m\u001b[0m\u001b[1;33m\u001b[0m\u001b[0m\n\u001b[1;32m----> 7\u001b[1;33m \u001b[0moutput\u001b[0m \u001b[1;33m=\u001b[0m \u001b[0mraw\u001b[0m\u001b[1;33m.\u001b[0m\u001b[0miloc\u001b[0m\u001b[1;33m[\u001b[0m\u001b[1;36m1\u001b[0m\u001b[1;33m]\u001b[0m\u001b[1;33m[\u001b[0m\u001b[1;36m2\u001b[0m\u001b[1;33m]\u001b[0m\u001b[1;33m.\u001b[0m\u001b[0mstr\u001b[0m\u001b[1;33m.\u001b[0m\u001b[0mformat\u001b[0m\u001b[1;33m(\u001b[0m \u001b[1;34mf\"{raw.iloc[1][2]:.9f}\"\u001b[0m\u001b[1;33m)\u001b[0m\u001b[1;33m\u001b[0m\u001b[1;33m\u001b[0m\u001b[0m\n\u001b[0m\u001b[0;32m      8\u001b[0m \u001b[1;33m\u001b[0m\u001b[0m\n\u001b[0;32m      9\u001b[0m \u001b[0mprint\u001b[0m\u001b[1;33m(\u001b[0m\u001b[0moutput\u001b[0m\u001b[1;33m)\u001b[0m\u001b[1;33m\u001b[0m\u001b[1;33m\u001b[0m\u001b[0m\n",
      "\u001b[1;31mAttributeError\u001b[0m: 'str' object has no attribute 'str'"
     ]
    }
   ],
   "source": [
    "\n",
    "raw=df.iloc[1:,:]\n",
    "# for index in range(raw.shape[1]):\n",
    "#     print(raw[index])\n",
    "#     raw[index].apply(pd.to_numeric, errors='ignore')\n",
    "# type(raw.iloc[1][2])\n",
    "#a = format(raw.iloc[1][2],float)\n",
    "output = raw.iloc[1][2].str.format( f\"{raw.iloc[1][2]:.9f}\")\n",
    "\n",
    "print(output)\n",
    "#df.rename(columns = {0:'x1', 1:'y1', 2:'x2', 3:'y2', 4:'x3', 5:'y3'}, inplace = True)"
   ]
  },
  {
   "cell_type": "code",
   "execution_count": 18,
   "id": "vital-partition",
   "metadata": {},
   "outputs": [
    {
     "ename": "TypeError",
     "evalue": "readlines() takes no keyword arguments",
     "output_type": "error",
     "traceback": [
      "\u001b[1;31m---------------------------------------------------------------------------\u001b[0m",
      "\u001b[1;31mTypeError\u001b[0m                                 Traceback (most recent call last)",
      "\u001b[1;32m<ipython-input-18-e7f7bfd8e36a>\u001b[0m in \u001b[0;36m<module>\u001b[1;34m\u001b[0m\n\u001b[0;32m      5\u001b[0m \u001b[0mfilename_ls\u001b[0m\u001b[1;33m[\u001b[0m\u001b[1;36m0\u001b[0m\u001b[1;33m]\u001b[0m\u001b[1;33m\u001b[0m\u001b[1;33m\u001b[0m\u001b[0m\n\u001b[0;32m      6\u001b[0m \u001b[1;32mwith\u001b[0m \u001b[0mopen\u001b[0m\u001b[1;33m(\u001b[0m\u001b[1;34m'lsv1.DTA'\u001b[0m\u001b[1;33m,\u001b[0m \u001b[1;34m'r'\u001b[0m\u001b[1;33m)\u001b[0m \u001b[1;32mas\u001b[0m \u001b[0mf\u001b[0m\u001b[1;33m:\u001b[0m\u001b[1;33m\u001b[0m\u001b[1;33m\u001b[0m\u001b[0m\n\u001b[1;32m----> 7\u001b[1;33m     \u001b[1;32mfor\u001b[0m \u001b[0mline\u001b[0m \u001b[1;32min\u001b[0m \u001b[0mf\u001b[0m\u001b[1;33m.\u001b[0m\u001b[0mreadlines\u001b[0m\u001b[1;33m(\u001b[0m\u001b[0mskip\u001b[0m \u001b[1;33m=\u001b[0m \u001b[1;36m5\u001b[0m\u001b[1;33m)\u001b[0m\u001b[1;33m:\u001b[0m\u001b[1;33m\u001b[0m\u001b[1;33m\u001b[0m\u001b[0m\n\u001b[0m\u001b[0;32m      8\u001b[0m         \u001b[0mprint\u001b[0m\u001b[1;33m(\u001b[0m\u001b[0mline\u001b[0m\u001b[1;33m)\u001b[0m\u001b[1;33m\u001b[0m\u001b[1;33m\u001b[0m\u001b[0m\n\u001b[0;32m      9\u001b[0m \u001b[1;31m#         if re.search('\\tPt\\tT.*',line):\u001b[0m\u001b[1;33m\u001b[0m\u001b[1;33m\u001b[0m\u001b[1;33m\u001b[0m\u001b[0m\n",
      "\u001b[1;31mTypeError\u001b[0m: readlines() takes no keyword arguments"
     ]
    }
   ],
   "source": [
    "# filename_ls, legend_ls = getfilename()[0], getfilename()[1]\n",
    "# x_tag = \"Vf\"\n",
    "# y_tag = \"Im\"\n",
    "# sample = 'RuZrOx_HER'\n",
    "# filename_ls[0]\n",
    "# with open('lsv1.DTA', 'r') as f:\n",
    "#     for line in f.readlines():\n",
    "#         print(line)\n",
    "# #         if re.search('\\tPt\\tT.*',line):\n",
    "# #             data_title = line\n",
    "# # titles = data_title.split('\\t')\n",
    "# # titles[-1]=titles[-1].rstrip('\\n')\n",
    "# # titles[0] = 'CURVE_CYCLE'"
   ]
  },
  {
   "cell_type": "code",
   "execution_count": null,
   "id": "skilled-ceramic",
   "metadata": {},
   "outputs": [],
   "source": [
    "\n",
    "\n",
    "#user input what x and y they want to use\n",
    "filename_ls, legend_ls = getfilename()[0], getfilename()[1]\n",
    "x_tag = \"Vf\"\n",
    "y_tag = \"Im\"\n",
    "# filename = 'cv50multi.DTA'\n",
    "sample = 'RuZrOx_HER'\n",
    "\n",
    "for filename in filename_ls:\n",
    "    #get the titles of desired columns and replace the #1 \\t column by 'CURVE_CYCLE'\n",
    "    with open(filename, 'r') as f:\n",
    "        for line in f.readlines():\n",
    "            if re.search('\\tPt\\tT.*',line):\n",
    "                data_title = line\n",
    "    titles = data_title.split('\\t')\n",
    "    titles[-1]=titles[-1].rstrip('\\n')\n",
    "    titles[0] = 'CURVE_CYCLE'\n",
    "\n",
    "    #read in data frame and fill the empty \\t under CURVE_CYCLE as their curve name\n",
    "    df = pd.read_csv(filename, sep = '\\t', names= titles)\n",
    "    df.CURVE_CYCLE.ffill(inplace=True)\n",
    "    #Drop the empty entrys in x_tag and y_tag columns\n",
    "    df.dropna(how = 'any', subset=[x_tag, y_tag], inplace=True)\n",
    "\n",
    "    df[[x_tag, y_tag]] = df[[x_tag, y_tag]].apply(convert_to_float, axis= 1)\n",
    "    num_df = df[df[[x_tag, y_tag]].apply(is_numerical, axis= 1)]\n",
    "    num_df.reset_index(drop = True, inplace = True)\n",
    "\n",
    "    for cycle in num_df.CURVE_CYCLE.unique():\n",
    "        x, y = num_df[num_df.CURVE_CYCLE == cycle][x_tag], num_df[num_df.CURVE_CYCLE == cycle][y_tag] \n",
    "        plt.plot(x, y, label=cycle)\n",
    "\n",
    "# current_handles, current_labels = plt.gca().get_legend_handles_labels()\n",
    "# reversed_handles = list(reversed(current_handles))\n",
    "# reversed_labels = list(reversed(current_labels))\n",
    "plt.legend(legend_ls, frameon=False, handlelength=0)\n",
    "# plt.xlim(1,20)\n",
    "# plt.xticks(np.arange(1, 20, 2.0))\n",
    "plt.yticks([])\n",
    "plt.xlabel('Voltage (V vs. RHE)')\n",
    "plt.ylabel('Current (A/cm$\\mathregular{^{2}}$)')\n",
    "plt.title('CV')\n",
    "plt.savefig(sample + 'CV.png')\n",
    "plt.show()"
   ]
  }
 ],
 "metadata": {
  "kernelspec": {
   "display_name": "Python 3",
   "language": "python",
   "name": "python3"
  },
  "language_info": {
   "codemirror_mode": {
    "name": "ipython",
    "version": 3
   },
   "file_extension": ".py",
   "mimetype": "text/x-python",
   "name": "python",
   "nbconvert_exporter": "python",
   "pygments_lexer": "ipython3",
   "version": "3.8.5"
  }
 },
 "nbformat": 4,
 "nbformat_minor": 5
}
