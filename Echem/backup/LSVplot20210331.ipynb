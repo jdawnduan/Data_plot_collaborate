{
 "cells": [
  {
   "cell_type": "code",
   "execution_count": 33,
   "id": "basic-passion",
   "metadata": {},
   "outputs": [],
   "source": [
    "import numpy as np\n",
    "import matplotlib as plt\n",
    "import csv\n",
    "import os\n",
    "import re\n",
    "import pandas as pd\n"
   ]
  },
  {
   "cell_type": "code",
   "execution_count": 48,
   "id": "cutting-shanghai",
   "metadata": {},
   "outputs": [],
   "source": [
    "#A function to get file name and out put file names and legend labels\n",
    "def getfilename():\n",
    "    path = os.getcwd()    \n",
    "    filewithext = []\n",
    "    filename = []\n",
    "    for file in [doc for doc in os.listdir(path) if doc.endswith('.DTA')]:  \n",
    "        filewithext.append(file)\n",
    "        filename.append(file.replace(\".DTA\",\"\"))\n",
    "    return(filewithext, filename)\n",
    "#A function converts scientific notationed numbers to floats\n",
    "def convert_to_float(s):\n",
    "    try:\n",
    "        s[x_tag] = float(s[x_tag])\n",
    "        s[y_tag] = float(s[y_tag])\n",
    "        return s\n",
    "    except:\n",
    "        return s\n",
    "\n",
    "#A function return a columns of the result of a truth table\n",
    "#which x_rag and y_tag column should both be numerical values\n",
    "def is_numerical(s):\n",
    "    try:\n",
    "        result = isinstance(s[x_tag], float) and isinstance(s[y_tag], float)\n",
    "        return result\n",
    "    except:\n",
    "        return False\n",
    "\n",
    "def add_lsv_plot(lsv):\n",
    "    lsv.plot(ax=ax, \n",
    "          x='ref',\n",
    "          y='Im')"
   ]
  },
  {
   "cell_type": "code",
   "execution_count": 49,
   "id": "judicial-cambodia",
   "metadata": {},
   "outputs": [
    {
     "data": {
      "text/plain": [
       "'PCN222.DTA'"
      ]
     },
     "execution_count": 49,
     "metadata": {},
     "output_type": "execute_result"
    }
   ],
   "source": [
    "filenameext, filename = getfilename()\n",
    "filenameext[0]"
   ]
  },
  {
   "cell_type": "code",
   "execution_count": 50,
   "id": "faced-interval",
   "metadata": {},
   "outputs": [],
   "source": [
    "def clean_lsv_data(f_name):\n",
    "    df = pd.read_csv(f_name)\n",
    "    df = df['EXPLAIN'].str.split(r\"\\t\", expand=True)\n",
    "    header_pos = df[df[1]=='Pt'].index.values\n",
    "    df.rename(columns=df.iloc[header_pos[0]], inplace = True)\n",
    "    header_ls = list(df.iloc[header_pos[0]])\n",
    "    unit_ls = list(df.iloc[header_pos[0]+1])\n",
    "    raw = df.iloc[header_pos[0]+2:]\n",
    "    raw = raw[['Vf','Im']]\n",
    "    x_tag = 'Vf'\n",
    "    y_tag = 'Im'\n",
    "\n",
    "    raw[[x_tag, y_tag]] = raw[[x_tag, y_tag]].apply(convert_to_float, axis= 1)\n",
    "    refshift= 0\n",
    "    area = 0.196\n",
    "    raw['Im'] = raw['Im']*1000\n",
    "    raw['ref']=raw[x_tag]+refshift\n",
    "    lsv = raw\n",
    "    return lsv"
   ]
  },
  {
   "cell_type": "code",
   "execution_count": 51,
   "id": "entitled-dividend",
   "metadata": {},
   "outputs": [
    {
     "ename": "ParserError",
     "evalue": "Error tokenizing data. C error: Expected 1 fields in line 7, saw 3\n",
     "output_type": "error",
     "traceback": [
      "\u001b[1;31m---------------------------------------------------------------------------\u001b[0m",
      "\u001b[1;31mParserError\u001b[0m                               Traceback (most recent call last)",
      "\u001b[1;32m<ipython-input-51-13757e928f72>\u001b[0m in \u001b[0;36m<module>\u001b[1;34m\u001b[0m\n\u001b[1;32m----> 1\u001b[1;33m \u001b[0mlsv1\u001b[0m \u001b[1;33m=\u001b[0m \u001b[0mclean_lsv_data\u001b[0m\u001b[1;33m(\u001b[0m\u001b[0mfilenameext\u001b[0m\u001b[1;33m[\u001b[0m\u001b[1;36m0\u001b[0m\u001b[1;33m]\u001b[0m\u001b[1;33m)\u001b[0m\u001b[1;33m\u001b[0m\u001b[1;33m\u001b[0m\u001b[0m\n\u001b[0m\u001b[0;32m      2\u001b[0m \u001b[0mlsv2\u001b[0m \u001b[1;33m=\u001b[0m \u001b[0mclean_lsv_data\u001b[0m\u001b[1;33m(\u001b[0m\u001b[0mfilenameext\u001b[0m\u001b[1;33m[\u001b[0m\u001b[1;36m1\u001b[0m\u001b[1;33m]\u001b[0m\u001b[1;33m)\u001b[0m\u001b[1;33m\u001b[0m\u001b[1;33m\u001b[0m\u001b[0m\n\u001b[0;32m      3\u001b[0m \u001b[0mlsv3\u001b[0m \u001b[1;33m=\u001b[0m \u001b[0mclean_lsv_data\u001b[0m\u001b[1;33m(\u001b[0m\u001b[0mfilenameext\u001b[0m\u001b[1;33m[\u001b[0m\u001b[1;36m2\u001b[0m\u001b[1;33m]\u001b[0m\u001b[1;33m)\u001b[0m\u001b[1;33m\u001b[0m\u001b[1;33m\u001b[0m\u001b[0m\n\u001b[0;32m      4\u001b[0m \u001b[1;31m#lsv4 = clean_data(filenameext[3])\u001b[0m\u001b[1;33m\u001b[0m\u001b[1;33m\u001b[0m\u001b[1;33m\u001b[0m\u001b[0m\n",
      "\u001b[1;32m<ipython-input-50-38c674a1d214>\u001b[0m in \u001b[0;36mclean_lsv_data\u001b[1;34m(f_name)\u001b[0m\n\u001b[0;32m      1\u001b[0m \u001b[1;32mdef\u001b[0m \u001b[0mclean_lsv_data\u001b[0m\u001b[1;33m(\u001b[0m\u001b[0mf_name\u001b[0m\u001b[1;33m)\u001b[0m\u001b[1;33m:\u001b[0m\u001b[1;33m\u001b[0m\u001b[1;33m\u001b[0m\u001b[0m\n\u001b[1;32m----> 2\u001b[1;33m     \u001b[0mdf\u001b[0m \u001b[1;33m=\u001b[0m \u001b[0mpd\u001b[0m\u001b[1;33m.\u001b[0m\u001b[0mread_csv\u001b[0m\u001b[1;33m(\u001b[0m\u001b[0mf_name\u001b[0m\u001b[1;33m)\u001b[0m\u001b[1;33m\u001b[0m\u001b[1;33m\u001b[0m\u001b[0m\n\u001b[0m\u001b[0;32m      3\u001b[0m     \u001b[0mdf\u001b[0m \u001b[1;33m=\u001b[0m \u001b[0mdf\u001b[0m\u001b[1;33m[\u001b[0m\u001b[1;34m'EXPLAIN'\u001b[0m\u001b[1;33m]\u001b[0m\u001b[1;33m.\u001b[0m\u001b[0mstr\u001b[0m\u001b[1;33m.\u001b[0m\u001b[0msplit\u001b[0m\u001b[1;33m(\u001b[0m\u001b[1;34mr\"\\t\"\u001b[0m\u001b[1;33m,\u001b[0m \u001b[0mexpand\u001b[0m\u001b[1;33m=\u001b[0m\u001b[1;32mTrue\u001b[0m\u001b[1;33m)\u001b[0m\u001b[1;33m\u001b[0m\u001b[1;33m\u001b[0m\u001b[0m\n\u001b[0;32m      4\u001b[0m     \u001b[0mheader_pos\u001b[0m \u001b[1;33m=\u001b[0m \u001b[0mdf\u001b[0m\u001b[1;33m[\u001b[0m\u001b[0mdf\u001b[0m\u001b[1;33m[\u001b[0m\u001b[1;36m1\u001b[0m\u001b[1;33m]\u001b[0m\u001b[1;33m==\u001b[0m\u001b[1;34m'Pt'\u001b[0m\u001b[1;33m]\u001b[0m\u001b[1;33m.\u001b[0m\u001b[0mindex\u001b[0m\u001b[1;33m.\u001b[0m\u001b[0mvalues\u001b[0m\u001b[1;33m\u001b[0m\u001b[1;33m\u001b[0m\u001b[0m\n\u001b[0;32m      5\u001b[0m     \u001b[0mdf\u001b[0m\u001b[1;33m.\u001b[0m\u001b[0mrename\u001b[0m\u001b[1;33m(\u001b[0m\u001b[0mcolumns\u001b[0m\u001b[1;33m=\u001b[0m\u001b[0mdf\u001b[0m\u001b[1;33m.\u001b[0m\u001b[0miloc\u001b[0m\u001b[1;33m[\u001b[0m\u001b[0mheader_pos\u001b[0m\u001b[1;33m[\u001b[0m\u001b[1;36m0\u001b[0m\u001b[1;33m]\u001b[0m\u001b[1;33m]\u001b[0m\u001b[1;33m,\u001b[0m \u001b[0minplace\u001b[0m \u001b[1;33m=\u001b[0m \u001b[1;32mTrue\u001b[0m\u001b[1;33m)\u001b[0m\u001b[1;33m\u001b[0m\u001b[1;33m\u001b[0m\u001b[0m\n",
      "\u001b[1;32mO:\\Anaconda3\\lib\\site-packages\\pandas\\io\\parsers.py\u001b[0m in \u001b[0;36mread_csv\u001b[1;34m(filepath_or_buffer, sep, delimiter, header, names, index_col, usecols, squeeze, prefix, mangle_dupe_cols, dtype, engine, converters, true_values, false_values, skipinitialspace, skiprows, skipfooter, nrows, na_values, keep_default_na, na_filter, verbose, skip_blank_lines, parse_dates, infer_datetime_format, keep_date_col, date_parser, dayfirst, cache_dates, iterator, chunksize, compression, thousands, decimal, lineterminator, quotechar, quoting, doublequote, escapechar, comment, encoding, dialect, error_bad_lines, warn_bad_lines, delim_whitespace, low_memory, memory_map, float_precision, storage_options)\u001b[0m\n\u001b[0;32m    608\u001b[0m     \u001b[0mkwds\u001b[0m\u001b[1;33m.\u001b[0m\u001b[0mupdate\u001b[0m\u001b[1;33m(\u001b[0m\u001b[0mkwds_defaults\u001b[0m\u001b[1;33m)\u001b[0m\u001b[1;33m\u001b[0m\u001b[1;33m\u001b[0m\u001b[0m\n\u001b[0;32m    609\u001b[0m \u001b[1;33m\u001b[0m\u001b[0m\n\u001b[1;32m--> 610\u001b[1;33m     \u001b[1;32mreturn\u001b[0m \u001b[0m_read\u001b[0m\u001b[1;33m(\u001b[0m\u001b[0mfilepath_or_buffer\u001b[0m\u001b[1;33m,\u001b[0m \u001b[0mkwds\u001b[0m\u001b[1;33m)\u001b[0m\u001b[1;33m\u001b[0m\u001b[1;33m\u001b[0m\u001b[0m\n\u001b[0m\u001b[0;32m    611\u001b[0m \u001b[1;33m\u001b[0m\u001b[0m\n\u001b[0;32m    612\u001b[0m \u001b[1;33m\u001b[0m\u001b[0m\n",
      "\u001b[1;32mO:\\Anaconda3\\lib\\site-packages\\pandas\\io\\parsers.py\u001b[0m in \u001b[0;36m_read\u001b[1;34m(filepath_or_buffer, kwds)\u001b[0m\n\u001b[0;32m    466\u001b[0m \u001b[1;33m\u001b[0m\u001b[0m\n\u001b[0;32m    467\u001b[0m     \u001b[1;32mwith\u001b[0m \u001b[0mparser\u001b[0m\u001b[1;33m:\u001b[0m\u001b[1;33m\u001b[0m\u001b[1;33m\u001b[0m\u001b[0m\n\u001b[1;32m--> 468\u001b[1;33m         \u001b[1;32mreturn\u001b[0m \u001b[0mparser\u001b[0m\u001b[1;33m.\u001b[0m\u001b[0mread\u001b[0m\u001b[1;33m(\u001b[0m\u001b[0mnrows\u001b[0m\u001b[1;33m)\u001b[0m\u001b[1;33m\u001b[0m\u001b[1;33m\u001b[0m\u001b[0m\n\u001b[0m\u001b[0;32m    469\u001b[0m \u001b[1;33m\u001b[0m\u001b[0m\n\u001b[0;32m    470\u001b[0m \u001b[1;33m\u001b[0m\u001b[0m\n",
      "\u001b[1;32mO:\\Anaconda3\\lib\\site-packages\\pandas\\io\\parsers.py\u001b[0m in \u001b[0;36mread\u001b[1;34m(self, nrows)\u001b[0m\n\u001b[0;32m   1055\u001b[0m     \u001b[1;32mdef\u001b[0m \u001b[0mread\u001b[0m\u001b[1;33m(\u001b[0m\u001b[0mself\u001b[0m\u001b[1;33m,\u001b[0m \u001b[0mnrows\u001b[0m\u001b[1;33m=\u001b[0m\u001b[1;32mNone\u001b[0m\u001b[1;33m)\u001b[0m\u001b[1;33m:\u001b[0m\u001b[1;33m\u001b[0m\u001b[1;33m\u001b[0m\u001b[0m\n\u001b[0;32m   1056\u001b[0m         \u001b[0mnrows\u001b[0m \u001b[1;33m=\u001b[0m \u001b[0mvalidate_integer\u001b[0m\u001b[1;33m(\u001b[0m\u001b[1;34m\"nrows\"\u001b[0m\u001b[1;33m,\u001b[0m \u001b[0mnrows\u001b[0m\u001b[1;33m)\u001b[0m\u001b[1;33m\u001b[0m\u001b[1;33m\u001b[0m\u001b[0m\n\u001b[1;32m-> 1057\u001b[1;33m         \u001b[0mindex\u001b[0m\u001b[1;33m,\u001b[0m \u001b[0mcolumns\u001b[0m\u001b[1;33m,\u001b[0m \u001b[0mcol_dict\u001b[0m \u001b[1;33m=\u001b[0m \u001b[0mself\u001b[0m\u001b[1;33m.\u001b[0m\u001b[0m_engine\u001b[0m\u001b[1;33m.\u001b[0m\u001b[0mread\u001b[0m\u001b[1;33m(\u001b[0m\u001b[0mnrows\u001b[0m\u001b[1;33m)\u001b[0m\u001b[1;33m\u001b[0m\u001b[1;33m\u001b[0m\u001b[0m\n\u001b[0m\u001b[0;32m   1058\u001b[0m \u001b[1;33m\u001b[0m\u001b[0m\n\u001b[0;32m   1059\u001b[0m         \u001b[1;32mif\u001b[0m \u001b[0mindex\u001b[0m \u001b[1;32mis\u001b[0m \u001b[1;32mNone\u001b[0m\u001b[1;33m:\u001b[0m\u001b[1;33m\u001b[0m\u001b[1;33m\u001b[0m\u001b[0m\n",
      "\u001b[1;32mO:\\Anaconda3\\lib\\site-packages\\pandas\\io\\parsers.py\u001b[0m in \u001b[0;36mread\u001b[1;34m(self, nrows)\u001b[0m\n\u001b[0;32m   2059\u001b[0m     \u001b[1;32mdef\u001b[0m \u001b[0mread\u001b[0m\u001b[1;33m(\u001b[0m\u001b[0mself\u001b[0m\u001b[1;33m,\u001b[0m \u001b[0mnrows\u001b[0m\u001b[1;33m=\u001b[0m\u001b[1;32mNone\u001b[0m\u001b[1;33m)\u001b[0m\u001b[1;33m:\u001b[0m\u001b[1;33m\u001b[0m\u001b[1;33m\u001b[0m\u001b[0m\n\u001b[0;32m   2060\u001b[0m         \u001b[1;32mtry\u001b[0m\u001b[1;33m:\u001b[0m\u001b[1;33m\u001b[0m\u001b[1;33m\u001b[0m\u001b[0m\n\u001b[1;32m-> 2061\u001b[1;33m             \u001b[0mdata\u001b[0m \u001b[1;33m=\u001b[0m \u001b[0mself\u001b[0m\u001b[1;33m.\u001b[0m\u001b[0m_reader\u001b[0m\u001b[1;33m.\u001b[0m\u001b[0mread\u001b[0m\u001b[1;33m(\u001b[0m\u001b[0mnrows\u001b[0m\u001b[1;33m)\u001b[0m\u001b[1;33m\u001b[0m\u001b[1;33m\u001b[0m\u001b[0m\n\u001b[0m\u001b[0;32m   2062\u001b[0m         \u001b[1;32mexcept\u001b[0m \u001b[0mStopIteration\u001b[0m\u001b[1;33m:\u001b[0m\u001b[1;33m\u001b[0m\u001b[1;33m\u001b[0m\u001b[0m\n\u001b[0;32m   2063\u001b[0m             \u001b[1;32mif\u001b[0m \u001b[0mself\u001b[0m\u001b[1;33m.\u001b[0m\u001b[0m_first_chunk\u001b[0m\u001b[1;33m:\u001b[0m\u001b[1;33m\u001b[0m\u001b[1;33m\u001b[0m\u001b[0m\n",
      "\u001b[1;32mpandas\\_libs\\parsers.pyx\u001b[0m in \u001b[0;36mpandas._libs.parsers.TextReader.read\u001b[1;34m()\u001b[0m\n",
      "\u001b[1;32mpandas\\_libs\\parsers.pyx\u001b[0m in \u001b[0;36mpandas._libs.parsers.TextReader._read_low_memory\u001b[1;34m()\u001b[0m\n",
      "\u001b[1;32mpandas\\_libs\\parsers.pyx\u001b[0m in \u001b[0;36mpandas._libs.parsers.TextReader._read_rows\u001b[1;34m()\u001b[0m\n",
      "\u001b[1;32mpandas\\_libs\\parsers.pyx\u001b[0m in \u001b[0;36mpandas._libs.parsers.TextReader._tokenize_rows\u001b[1;34m()\u001b[0m\n",
      "\u001b[1;32mpandas\\_libs\\parsers.pyx\u001b[0m in \u001b[0;36mpandas._libs.parsers.raise_parser_error\u001b[1;34m()\u001b[0m\n",
      "\u001b[1;31mParserError\u001b[0m: Error tokenizing data. C error: Expected 1 fields in line 7, saw 3\n"
     ]
    }
   ],
   "source": [
    "lsv1 = clean_lsv_data(filenameext[0])\n",
    "lsv2 = clean_lsv_data(filenameext[1])\n",
    "lsv3 = clean_lsv_data(filenameext[2])\n",
    "#lsv4 = clean_data(filenameext[3])"
   ]
  },
  {
   "cell_type": "code",
   "execution_count": 78,
   "id": "ranking-booking",
   "metadata": {},
   "outputs": [],
   "source": [
    "#If the data is copied in txt or a more organized file\n",
    "\n",
    "# lsv1 = df.iloc[1:,0:2]\n",
    "# lsv1.rename(columns = {0:'x',1:'y'}, inplace = True)\n",
    "# lsv1[[x_tag, y_tag]] = lsv1[[x_tag, y_tag]].apply(convert_to_float, axis= 1)\n",
    "# lsv1.replace(\"\", np.nan, inplace=True)\n",
    "# lsv1 = lsv1.dropna()\n",
    "\n",
    "# lsv2 = df.iloc[1:,2:4]\n",
    "# lsv2.rename(columns = {2:'x',3:'y'}, inplace = True)\n",
    "# lsv2[[x_tag, y_tag]] = lsv2[[x_tag, y_tag]].apply(convert_to_float, axis= 1)\n",
    "# lsv2.replace(\"\", np.nan, inplace=True)\n",
    "# lsv2 = lsv2.dropna()\n",
    "\n",
    "\n",
    "# lsv3 = df.iloc[1:,4:6]\n",
    "# lsv3.rename(columns = {4:'x',5:'y'}, inplace = True)\n",
    "# lsv3[[x_tag, y_tag]] = lsv3[[x_tag, y_tag]].apply(convert_to_float, axis= 1)\n",
    "# lsv3.replace(\"\", np.nan, inplace=True)\n",
    "# lsv3 = lsv3.dropna()\n",
    "\n",
    "# lsv1['ref']=lsv1['x']+refshift\n",
    "# lsv2['ref']=lsv2['x']+refshift\n",
    "# lsv3['ref']=lsv3['x']+refshift\n",
    "# lsv1['normA']=lsv1['y']*1000/area\n",
    "# lsv2['normA']=lsv2['y']*1000/area\n",
    "# lsv3['normA']=lsv3['y']*1000/area\n",
    "\n",
    "\n"
   ]
  },
  {
   "cell_type": "code",
   "execution_count": 29,
   "id": "critical-creek",
   "metadata": {},
   "outputs": [
    {
     "data": {
      "image/png": "[encoded data removed]",
      "text/plain": [
       "<Figure size 432x288 with 1 Axes>"
      ]
     },
     "metadata": {
      "needs_background": "light"
     },
     "output_type": "display_data"
    }
   ],
   "source": [
    "ax = lsv1.plot(x='ref',\n",
    "          y='Im',\n",
    "          title  = 'LSV',\n",
    "          #xlim = (-0.3,0.6),\n",
    "          #ylim = (-0.1, 0)\n",
    "         )\n",
    "add_lsv_plot(lsv2)\n",
    "add_lsv_plot(lsv3)\n",
    "#add_lsv_plot(lsv4)\n",
    "ax.set(xlabel='Voltage (V vs. RHE)', ylabel='Current (mA/cm$\\mathregular{^{2}}$)')\n",
    "ax.legend([filename[0],filename[1],filename[2]],frameon=False)\n",
    "ax.figure.savefig(filename[0] + 'LSV.png')"
   ]
  },
  {
   "cell_type": "code",
   "execution_count": 211,
   "id": "enclosed-scottish",
   "metadata": {},
   "outputs": [],
   "source": [
    "# ax = lsv2.plot(x='ref',\n",
    "#           y='normA',\n",
    "#           title  = 'LSV',\n",
    "#           xlim = (-1,0),\n",
    "#           ylim = (-10, 0)\n",
    "#          )\n",
    "# ax.set(xlabel='Voltage (V vs. RHE)', ylabel='Current (mA/cm$\\mathregular{^{2}}$)')\n",
    "# ax.legend([sample])\n",
    "# # current_handles, current_labels = plt.gca().get_legend_handles_labels()\n",
    "# # reversed_handles = list(reversed(current_handles))\n",
    "# # reversed_labels = list(reversed(current_labels))\n",
    "# #plt.legend(legend_ls, frameon=False, handlelength=0)\n",
    "# # plt.xlim(1,20)\n",
    "# # plt.xticks(np.arange(1, 20, 2.0))\n",
    "# #plt.yticks([])\n",
    "# # plt.xlabel('Voltage (V vs. RHE)')\n",
    "# # plt.ylabel('Current (A/cm$\\mathregular{^{2}}$)')\n",
    "# # plt.title('CV')\n",
    "# # plt.savefig(sample + 'CV.png')\n",
    "# # plt.show()"
   ]
  },
  {
   "cell_type": "code",
   "execution_count": null,
   "id": "behavioral-investment",
   "metadata": {},
   "outputs": [],
   "source": []
  }
 ],
 "metadata": {
  "kernelspec": {
   "display_name": "Python 3",
   "language": "python",
   "name": "python3"
  },
  "language_info": {
   "codemirror_mode": {
    "name": "ipython",
    "version": 3
   },
   "file_extension": ".py",
   "mimetype": "text/x-python",
   "name": "python",
   "nbconvert_exporter": "python",
   "pygments_lexer": "ipython3",
   "version": "3.8.5"
  }
 },
 "nbformat": 4,
 "nbformat_minor": 5
}
