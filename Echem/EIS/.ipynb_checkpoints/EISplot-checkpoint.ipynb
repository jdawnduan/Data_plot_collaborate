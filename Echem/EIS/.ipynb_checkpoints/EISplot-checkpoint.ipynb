{
 "cells": [
  {
   "cell_type": "code",
   "execution_count": 4,
   "id": "polyphonic-annual",
   "metadata": {},
   "outputs": [],
   "source": [
    "import numpy as np\n",
    "import matplotlib as plt\n",
    "import csv\n",
    "import os\n",
    "import re\n",
    "import pandas as pd\n"
   ]
  },
  {
   "cell_type": "code",
   "execution_count": 5,
   "id": "decent-bouquet",
   "metadata": {},
   "outputs": [],
   "source": [
    "#A function to get file name and out put file names and legend labels\n",
    "def getfilename():\n",
    "    path = os.getcwd()    \n",
    "    filewithext = []\n",
    "    filename = []\n",
    "    for file in [doc for doc in os.listdir(path) if doc.endswith('.DTA')]:  \n",
    "        filewithext.append(file)\n",
    "        filename.append(file.replace(\".DTA\",\"\"))\n",
    "    return(filewithext, filename)\n",
    "#A function converts scientific notationed numbers to floats\n",
    "def convert_to_float(s):\n",
    "    try:\n",
    "        s[x_tag] = float(s[x_tag])\n",
    "        s[y_tag] = float(s[y_tag])\n",
    "        return s\n",
    "    except:\n",
    "        return s\n",
    "def eis_freq_convert_to_float(s):\n",
    "    try:\n",
    "        s[freq_tag] = float(s[freq_tag])\n",
    "        return s\n",
    "    except:\n",
    "        return s\n",
    "#A function return a columns of the result of a truth table\n",
    "#which x_rag and y_tag column should both be numerical values\n",
    "def is_numerical(s):\n",
    "    try:\n",
    "        result = isinstance(s[x_tag], float) and isinstance(s[y_tag], float)\n",
    "        return result\n",
    "    except:\n",
    "        return False\n",
    "\n",
    "def add_lsv_plot(lsv):\n",
    "    lsv.plot(ax=ax, \n",
    "          x='ref',\n",
    "          y='normA',\n",
    "          title  = 'LSV',\n",
    "          xlim = (-1,0),\n",
    "          ylim = (-10, 0))"
   ]
  },
  {
   "cell_type": "code",
   "execution_count": 6,
   "id": "handled-killer",
   "metadata": {},
   "outputs": [],
   "source": [
    "filenameext, filename = getfilename()\n",
    "filenameext\n",
    "df = pd.read_csv(filenameext[0])\n",
    "df = df['EXPLAIN'].str.split(r\"\\t\", expand=True)\n",
    "# df.iloc[40:60]\n",
    "header_pos = df[df[1]=='Pt'].index.values\n",
    "df.rename(columns=df.iloc[header_pos[0]], inplace = True)\n",
    "header_ls = list(df.iloc[header_pos[0]])\n",
    "unit_ls = list(df.iloc[header_pos[0]+1])\n",
    "raw = df.iloc[header_pos[0]+2:]\n",
    "raw = raw[['Zreal','Zimag','Freq']]\n",
    "\n",
    "#df.rename(columns=df.iloc[pos])"
   ]
  },
  {
   "cell_type": "code",
   "execution_count": 7,
   "id": "rolled-wealth",
   "metadata": {},
   "outputs": [],
   "source": [
    "x_tag = 'Zreal'\n",
    "y_tag = 'Zimag'\n",
    "freq_tag = 'Freq'\n",
    "sample='test'\n",
    "\n",
    "raw[[x_tag, y_tag]] = raw[[x_tag, y_tag]].apply(convert_to_float, axis= 1)\n",
    "raw[[freq_tag]] = raw[[freq_tag]].apply(eis_freq_convert_to_float, axis= 1)\n",
    "raw['|Zimag|'] = raw['Zimag'].abs()\n",
    "EIS = raw"
   ]
  },
  {
   "cell_type": "code",
   "execution_count": 8,
   "id": "upper-pizza",
   "metadata": {},
   "outputs": [
    {
     "data": {
      "image/png": "[encoded data removed]",
      "text/plain": [
       "<Figure size 432x288 with 1 Axes>"
      ]
     },
     "metadata": {
      "needs_background": "light"
     },
     "output_type": "display_data"
    }
   ],
   "source": [
    "ax = EIS.plot(style = '-o',\n",
    "              x='Zreal',\n",
    "              y='|Zimag|',\n",
    "              title  = 'EIS'\n",
    "             )\n",
    "ax.set(xlabel='Zreal', ylabel='|Zimag|')\n",
    "\n",
    "#add_lsv_plot(lsv2)\n",
    "#add_lsv_plot(lsv3)\n",
    "\n",
    "ax.legend([sample],frameon=False)\n",
    "ax.axis('equal')\n",
    "ax.figure.savefig(sample + 'EIS.png')"
   ]
  },
  {
   "cell_type": "code",
   "execution_count": null,
   "id": "valued-kenya",
   "metadata": {},
   "outputs": [],
   "source": []
  }
 ],
 "metadata": {
  "kernelspec": {
   "display_name": "Python 3",
   "language": "python",
   "name": "python3"
  },
  "language_info": {
   "codemirror_mode": {
    "name": "ipython",
    "version": 3
   },
   "file_extension": ".py",
   "mimetype": "text/x-python",
   "name": "python",
   "nbconvert_exporter": "python",
   "pygments_lexer": "ipython3",
   "version": "3.8.5"
  }
 },
 "nbformat": 4,
 "nbformat_minor": 5
}
