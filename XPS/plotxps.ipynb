{
 "cells": [
  {
   "cell_type": "code",
   "execution_count": 84,
   "id": "clinical-institution",
   "metadata": {},
   "outputs": [],
   "source": [
    "import pandas as pd\n",
    "import numpy as np\n",
    "import re"
   ]
  },
  {
   "cell_type": "code",
   "execution_count": 13,
   "id": "aerial-thompson",
   "metadata": {},
   "outputs": [],
   "source": [
    "#df = pd.read_excel('test.xls')\n",
    "xls = pd.ExcelFile('test.xls')"
   ]
  },
  {
   "cell_type": "code",
   "execution_count": 100,
   "id": "rational-sharing",
   "metadata": {},
   "outputs": [
    {
     "data": {
      "text/plain": [
       "['O1s Scan', 'C1s Scan', 'XPS Survey']"
      ]
     },
     "execution_count": 100,
     "metadata": {},
     "output_type": "execute_result"
    }
   ],
   "source": [
    "\n",
    "#get the needed data sheets in the excel file\n",
    "sheet_names_ls = xls.sheet_names\n",
    "not_useful_str_ls = ['Titles',\"Sheet\"]\n",
    "needed_sheets_ls = list(filter(lambda x: re.search('Scan', x) or re.search('Survey', x) , sheet_names_ls))\n",
    "needed_sheets_ls\n",
    "# if search(substring, fullstring):\n",
    "#     print \"Found!\"\n",
    "# else:\n",
    "#     print \"Not found!\""
   ]
  },
  {
   "cell_type": "code",
   "execution_count": 101,
   "id": "controlled-crime",
   "metadata": {},
   "outputs": [],
   "source": [
    "#define raw as my new empty dataframe\n",
    "raw = pd.DataFrame()\n",
    "raw_dict = {}\n",
    "#got an empty dictionary to store my XPS data"
   ]
  },
  {
   "cell_type": "code",
   "execution_count": 102,
   "id": "orange-murder",
   "metadata": {},
   "outputs": [],
   "source": [
    "#This reads all the sheets in my dictionary\n",
    "for key in needed_sheets_ls:\n",
    "    raw_dict[key] = pd.read_excel('test.xls',sheet_name = key)"
   ]
  },
  {
   "cell_type": "code",
   "execution_count": 104,
   "id": "accessible-combat",
   "metadata": {},
   "outputs": [
    {
     "data": {
      "text/html": [
       "<div>\n",
       "<style scoped>\n",
       "    .dataframe tbody tr th:only-of-type {\n",
       "        vertical-align: middle;\n",
       "    }\n",
       "\n",
       "    .dataframe tbody tr th {\n",
       "        vertical-align: top;\n",
       "    }\n",
       "\n",
       "    .dataframe thead th {\n",
       "        text-align: right;\n",
       "    }\n",
       "</style>\n",
       "<table border=\"1\" class=\"dataframe\">\n",
       "  <thead>\n",
       "    <tr style=\"text-align: right;\">\n",
       "      <th></th>\n",
       "      <th>Unnamed: 0</th>\n",
       "      <th>Unnamed: 1</th>\n",
       "      <th>Unnamed: 2</th>\n",
       "      <th>Unnamed: 3</th>\n",
       "      <th>Unnamed: 4</th>\n",
       "      <th>Unnamed: 5</th>\n",
       "      <th>Unnamed: 6</th>\n",
       "      <th>Acquisition Parameters :</th>\n",
       "      <th>Unnamed: 8</th>\n",
       "      <th>Unnamed: 9</th>\n",
       "      <th>Unnamed: 10</th>\n",
       "      <th>Unnamed: 11</th>\n",
       "      <th>Experiment Descriptions :</th>\n",
       "    </tr>\n",
       "  </thead>\n",
       "  <tbody>\n",
       "    <tr>\n",
       "      <th>0</th>\n",
       "      <td>NaN</td>\n",
       "      <td>NaN</td>\n",
       "      <td>NaN</td>\n",
       "      <td>NaN</td>\n",
       "      <td>NaN</td>\n",
       "      <td>NaN</td>\n",
       "      <td>NaN</td>\n",
       "      <td>NaN</td>\n",
       "      <td>NaN</td>\n",
       "      <td>NaN</td>\n",
       "      <td>NaN</td>\n",
       "      <td>NaN</td>\n",
       "      <td></td>\n",
       "    </tr>\n",
       "    <tr>\n",
       "      <th>1</th>\n",
       "      <td>NaN</td>\n",
       "      <td>NaN</td>\n",
       "      <td>NaN</td>\n",
       "      <td>NaN</td>\n",
       "      <td>NaN</td>\n",
       "      <td>NaN</td>\n",
       "      <td>NaN</td>\n",
       "      <td>Parameter</td>\n",
       "      <td></td>\n",
       "      <td>NaN</td>\n",
       "      <td>NaN</td>\n",
       "      <td>NaN</td>\n",
       "      <td>20210326\\Mono 500祄\\C60</td>\n",
       "    </tr>\n",
       "    <tr>\n",
       "      <th>2</th>\n",
       "      <td>NaN</td>\n",
       "      <td>NaN</td>\n",
       "      <td>NaN</td>\n",
       "      <td>NaN</td>\n",
       "      <td>NaN</td>\n",
       "      <td>NaN</td>\n",
       "      <td>NaN</td>\n",
       "      <td>Total acquisition time</td>\n",
       "      <td>50.2 secs</td>\n",
       "      <td>NaN</td>\n",
       "      <td>NaN</td>\n",
       "      <td>NaN</td>\n",
       "      <td>NaN</td>\n",
       "    </tr>\n",
       "    <tr>\n",
       "      <th>3</th>\n",
       "      <td>NaN</td>\n",
       "      <td>NaN</td>\n",
       "      <td>NaN</td>\n",
       "      <td>NaN</td>\n",
       "      <td>NaN</td>\n",
       "      <td>NaN</td>\n",
       "      <td>NaN</td>\n",
       "      <td>Number of Scans</td>\n",
       "      <td>5</td>\n",
       "      <td>NaN</td>\n",
       "      <td>NaN</td>\n",
       "      <td>NaN</td>\n",
       "      <td>NaN</td>\n",
       "    </tr>\n",
       "    <tr>\n",
       "      <th>4</th>\n",
       "      <td>﻿</td>\n",
       "      <td>NaN</td>\n",
       "      <td>NaN</td>\n",
       "      <td>NaN</td>\n",
       "      <td>NaN</td>\n",
       "      <td>NaN</td>\n",
       "      <td>NaN</td>\n",
       "      <td>Source Gun Type</td>\n",
       "      <td>Al K Alpha</td>\n",
       "      <td>NaN</td>\n",
       "      <td>NaN</td>\n",
       "      <td>NaN</td>\n",
       "      <td>NaN</td>\n",
       "    </tr>\n",
       "  </tbody>\n",
       "</table>\n",
       "</div>"
      ],
      "text/plain": [
       "  Unnamed: 0 Unnamed: 1 Unnamed: 2  Unnamed: 3 Unnamed: 4 Unnamed: 5  \\\n",
       "0        NaN        NaN        NaN         NaN        NaN        NaN   \n",
       "1        NaN        NaN        NaN         NaN        NaN        NaN   \n",
       "2        NaN        NaN        NaN         NaN        NaN        NaN   \n",
       "3        NaN        NaN        NaN         NaN        NaN        NaN   \n",
       "4          ﻿        NaN        NaN         NaN        NaN        NaN   \n",
       "\n",
       "  Unnamed: 6 Acquisition Parameters :  Unnamed: 8  Unnamed: 9  Unnamed: 10  \\\n",
       "0        NaN                      NaN         NaN         NaN          NaN   \n",
       "1        NaN                Parameter                     NaN          NaN   \n",
       "2        NaN   Total acquisition time   50.2 secs         NaN          NaN   \n",
       "3        NaN          Number of Scans           5         NaN          NaN   \n",
       "4        NaN          Source Gun Type  Al K Alpha         NaN          NaN   \n",
       "\n",
       "   Unnamed: 11 Experiment Descriptions :  \n",
       "0          NaN                            \n",
       "1          NaN    20210326\\Mono 500祄\\C60  \n",
       "2          NaN                       NaN  \n",
       "3          NaN                       NaN  \n",
       "4          NaN                       NaN  "
      ]
     },
     "execution_count": 104,
     "metadata": {},
     "output_type": "execute_result"
    }
   ],
   "source": [
    "raw_dict[needed_sheets_ls[0]].head()"
   ]
  },
  {
   "cell_type": "code",
   "execution_count": 119,
   "id": "following-mattress",
   "metadata": {},
   "outputs": [],
   "source": [
    "#Now each sheet_df will be processed \n",
    "\n",
    "#want to get the data name 1st\n",
    "raw_data_name = df.iloc[1]['Experiment Descriptions :']\n",
    "sample_name = re.sub('\\d*\\\\\\\\\\w*\\s\\d*祄\\\\\\\\','',raw_data_name)\n",
    "\n",
    "#create a new column in the dataframe for the grouping later (call this column the sample name)\n",
    "df = raw_dict[needed_sheets_ls[0]].head()"
   ]
  },
  {
   "cell_type": "code",
   "execution_count": null,
   "id": "relative-investment",
   "metadata": {},
   "outputs": [],
   "source": [
    "#need to update the dictionary raw_dict with processed data values\n",
    "\n",
    "#Append all processed data in to one pandas dataframe\n",
    "\n",
    "#Group data frame by sample name and then each element"
   ]
  }
 ],
 "metadata": {
  "kernelspec": {
   "display_name": "Python 3",
   "language": "python",
   "name": "python3"
  },
  "language_info": {
   "codemirror_mode": {
    "name": "ipython",
    "version": 3
   },
   "file_extension": ".py",
   "mimetype": "text/x-python",
   "name": "python",
   "nbconvert_exporter": "python",
   "pygments_lexer": "ipython3",
   "version": "3.8.5"
  }
 },
 "nbformat": 4,
 "nbformat_minor": 5
}
